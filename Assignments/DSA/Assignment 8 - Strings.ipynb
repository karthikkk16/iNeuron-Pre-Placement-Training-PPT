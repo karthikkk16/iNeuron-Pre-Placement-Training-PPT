{
 "cells": [
  {
   "cell_type": "markdown",
   "id": "41cf70ec",
   "metadata": {},
   "source": [
    "**Question 1**\n",
    "\n",
    "Given two strings s1 and s2, return *the lowest **ASCII** sum of deleted characters to make two strings equal*.\n",
    "\n",
    "**Example 1:**\n",
    "\n",
    "**Input:** s1 = \"sea\", s2 = \"eat\"\n",
    "\n",
    "**Output:** 231\n",
    "\n",
    "**Explanation:** Deleting \"s\" from \"sea\" adds the ASCII value of \"s\" (115) to the sum.\n",
    "\n",
    "Deleting \"t\" from \"eat\" adds 116 to the sum.\n",
    "\n",
    "At the end, both strings are equal, and 115 + 116 = 231 is the minimum sum possible to achieve this."
   ]
  },
  {
   "cell_type": "code",
   "execution_count": 8,
   "id": "b68ecde3",
   "metadata": {},
   "outputs": [],
   "source": [
    "def test1(s1, s2):\n",
    "    a, b = len(s1), len(s2)\n",
    "    dp = [[0] * (b + 1) for _ in range(a + 1)]\n",
    "\n",
    "    for i in range(1, a + 1):\n",
    "        dp[i][0] = dp[i - 1][0] + ord(s1[i - 1])\n",
    "    for j in range(1, b + 1):\n",
    "        dp[0][j] = dp[0][j - 1] + ord(s2[j - 1])\n",
    "\n",
    "    for i in range(1, a + 1):\n",
    "        for j in range(1, b + 1):\n",
    "            if s1[i - 1] == s2[j - 1]:\n",
    "                dp[i][j] = dp[i - 1][j - 1]\n",
    "            else:\n",
    "                dp[i][j] = min(dp[i - 1][j] + ord(s1[i - 1]), dp[i][j - 1] + ord(s2[j - 1]))\n",
    "\n",
    "    return dp[a][b]"
   ]
  },
  {
   "cell_type": "code",
   "execution_count": 9,
   "id": "f75ff1b2",
   "metadata": {},
   "outputs": [
    {
     "data": {
      "text/plain": [
       "231"
      ]
     },
     "execution_count": 9,
     "metadata": {},
     "output_type": "execute_result"
    }
   ],
   "source": [
    "test1(\"sea\",\"eat\")"
   ]
  },
  {
   "cell_type": "markdown",
   "id": "001d2b7f",
   "metadata": {},
   "source": [
    "**Question 2**\n",
    "\n",
    "Given a string s containing only three types of characters: '(', ')' and '*', return true *if* s *is **valid***.\n",
    "\n",
    "The following rules define a **valid** string:\n",
    "\n",
    "- Any left parenthesis '(' must have a corresponding right parenthesis ')'.\n",
    "- Any right parenthesis ')' must have a corresponding left parenthesis '('.\n",
    "- Left parenthesis '(' must go before the corresponding right parenthesis ')'.\n",
    "- '*' could be treated as a single right parenthesis ')' or a single left parenthesis '(' or an empty string \"\".\n",
    "\n",
    "**Example 1:**\n",
    "\n",
    "**Input:** s = \"()\"\n",
    "\n",
    "**Output:**\n",
    "\n",
    "true"
   ]
  },
  {
   "cell_type": "code",
   "execution_count": 13,
   "id": "80b9e287",
   "metadata": {},
   "outputs": [],
   "source": [
    "def test2(s):\n",
    "    stack = []\n",
    "\n",
    "    for char in s:\n",
    "        if char == '(' or char == '*':\n",
    "            stack.append(char)\n",
    "        else:\n",
    "            if stack:\n",
    "                stack.pop()\n",
    "            else:\n",
    "                return False\n",
    "\n",
    "    count = 0\n",
    "    while stack:\n",
    "        if stack.pop() == '(':\n",
    "            count += 1\n",
    "        else:\n",
    "            count -= 1\n",
    "\n",
    "        if count < 0:\n",
    "            return False\n",
    "\n",
    "    return True"
   ]
  },
  {
   "cell_type": "code",
   "execution_count": 14,
   "id": "70dcf814",
   "metadata": {},
   "outputs": [
    {
     "data": {
      "text/plain": [
       "True"
      ]
     },
     "execution_count": 14,
     "metadata": {},
     "output_type": "execute_result"
    }
   ],
   "source": [
    "test2(\"()\")"
   ]
  },
  {
   "cell_type": "markdown",
   "id": "abb4feaa",
   "metadata": {},
   "source": [
    "**Question 3**\n",
    "\n",
    "Given two strings word1 and word2, return *the minimum number of **steps** required to make* word1 *and* word2 *the same*.\n",
    "\n",
    "In one **step**, you can delete exactly one character in either string.\n",
    "\n",
    "**Example 1:**\n",
    "\n",
    "**Input:** word1 = \"sea\", word2 = \"eat\"\n",
    "\n",
    "**Output:** 2\n",
    "\n",
    "**Explanation:** You need one step to make \"sea\" to \"ea\" and another step to make \"eat\" to \"ea\"."
   ]
  },
  {
   "cell_type": "code",
   "execution_count": 15,
   "id": "b3c40d70",
   "metadata": {},
   "outputs": [],
   "source": [
    "def test3(word1, word2):\n",
    "    a, b = len(word1), len(word2)\n",
    "    dp = [[0] * (b + 1) for _ in range(a + 1)]\n",
    "\n",
    "    for i in range(a + 1):\n",
    "        dp[i][0] = i\n",
    "    for j in range(b + 1):\n",
    "        dp[0][j] = j\n",
    "\n",
    "    for i in range(1, a + 1):\n",
    "        for j in range(1, b + 1):\n",
    "            if word1[i - 1] == word2[j - 1]:\n",
    "                dp[i][j] = dp[i - 1][j - 1]\n",
    "            else:\n",
    "                dp[i][j] = 1 + min(dp[i - 1][j], dp[i][j - 1])\n",
    "\n",
    "    return dp[a][b]"
   ]
  },
  {
   "cell_type": "code",
   "execution_count": 17,
   "id": "99f854e6",
   "metadata": {},
   "outputs": [
    {
     "data": {
      "text/plain": [
       "2"
      ]
     },
     "execution_count": 17,
     "metadata": {},
     "output_type": "execute_result"
    }
   ],
   "source": [
    "test3(\"sea\",\"eat\")"
   ]
  },
  {
   "cell_type": "markdown",
   "id": "6c6e0935",
   "metadata": {},
   "source": [
    "**Question 4**\n",
    "\n",
    "You need to construct a binary tree from a string consisting of parenthesis and integers.\n",
    "\n",
    "The whole input represents a binary tree. It contains an integer followed by zero, one or two pairs of parenthesis. The integer represents the root's value and a pair of parenthesis contains a child binary tree with the same structure.\n",
    "You always start to construct the **left** child node of the parent first if it exists.\n",
    "\n",
    "![Screenshot 2023-05-29 010548.png](https://s3-us-west-2.amazonaws.com/secure.notion-static.com/bdbea2d1-34a4-4c4b-a450-ea6db7410c43/Screenshot_2023-05-29_010548.png)\n",
    "\n",
    "**Input:** s = \"4(2(3)(1))(6(5))\"\n",
    "\n",
    "**Output:** [4,2,6,3,1,5]"
   ]
  },
  {
   "cell_type": "code",
   "execution_count": 36,
   "id": "a63c00a4",
   "metadata": {
    "scrolled": true
   },
   "outputs": [
    {
     "name": "stdout",
     "output_type": "stream",
     "text": [
      "[4, 2, 3, 1, 6, 5]\n"
     ]
    }
   ],
   "source": [
    "class TreeNode:\n",
    "    def __init__(self, value):\n",
    "        self.val = value\n",
    "        self.left = None\n",
    "        self.right = None\n",
    "\n",
    "def constructBinaryTree(s):\n",
    "    if not s:\n",
    "        return None\n",
    "\n",
    "    # Find the value of the root node\n",
    "    root_val = 0\n",
    "    i = 0\n",
    "    while i < len(s) and s[i].isdigit():\n",
    "        root_val = root_val * 10 + int(s[i])\n",
    "        i += 1\n",
    "\n",
    "    root = TreeNode(root_val)\n",
    "\n",
    "    if i < len(s) and s[i] == '(':\n",
    "        # Find the left subtree\n",
    "        j = i + 1\n",
    "        count = 1  # Count of open parentheses\n",
    "        while j < len(s) and count != 0:\n",
    "            if s[j] == '(':\n",
    "                count += 1\n",
    "            elif s[j] == ')':\n",
    "                count -= 1\n",
    "            j += 1\n",
    "\n",
    "        root.left = constructBinaryTree(s[i + 1:j - 1])\n",
    "\n",
    "        if j < len(s) - 1:\n",
    "            # Find the right subtree\n",
    "            root.right = constructBinaryTree(s[j + 1:-1])\n",
    "\n",
    "    return root\n",
    "\n",
    "\n",
    "def preorderTraversal(node):\n",
    "    if not node:\n",
    "        return []\n",
    "    \n",
    "    result = [node.val]\n",
    "    result += preorderTraversal(node.left)\n",
    "    result += preorderTraversal(node.right)\n",
    "\n",
    "    return result\n",
    "\n",
    "\n",
    "# Testing the code\n",
    "s = \"4(2(3)(1))(6(5))\"\n",
    "root = constructBinaryTree(s)\n",
    "output = preorderTraversal(root)\n",
    "print(output)"
   ]
  },
  {
   "cell_type": "markdown",
   "id": "10d983c3",
   "metadata": {},
   "source": [
    "**Question 5**\n",
    "\n",
    "Given an array of characters chars, compress it using the following algorithm:\n",
    "\n",
    "Begin with an empty string s. For each group of **consecutive repeating characters** in chars:\n",
    "\n",
    "- If the group's length is 1, append the character to s.\n",
    "- Otherwise, append the character followed by the group's length.\n",
    "\n",
    "The compressed string s **should not be returned separately**, but instead, be stored **in the input character array chars**. Note that group lengths that are 10 or longer will be split into multiple characters in chars.\n",
    "\n",
    "After you are done **modifying the input array,** return *the new length of the array*.\n",
    "\n",
    "You must write an algorithm that uses only constant extra space.\n",
    "\n",
    "**Example 1:**\n",
    "\n",
    "**Input:** chars = [\"a\",\"a\",\"b\",\"b\",\"c\",\"c\",\"c\"]\n",
    "\n",
    "**Output:** Return 6, and the first 6 characters of the input array should be: [\"a\",\"2\",\"b\",\"2\",\"c\",\"3\"]\n",
    "\n",
    "**Explanation:**\n",
    "\n",
    "The groups are \"aa\", \"bb\", and \"ccc\". This compresses to \"a2b2c3\"."
   ]
  },
  {
   "cell_type": "code",
   "execution_count": 38,
   "id": "449716ef",
   "metadata": {},
   "outputs": [],
   "source": [
    "def test5(chars):\n",
    "    count = 1\n",
    "    j = 0\n",
    "\n",
    "    for i in range(1, len(chars)):\n",
    "        if chars[i] == chars[i-1]:\n",
    "            count += 1\n",
    "        else:\n",
    "            chars[j] = chars[i-1]\n",
    "            if count > 1:\n",
    "                count_str = str(count)\n",
    "                for digit in count_str:\n",
    "                    j += 1\n",
    "                    chars[j] = digit\n",
    "            j += 1\n",
    "            count = 1\n",
    "\n",
    "    chars[j] = chars[-1]\n",
    "    if count > 1:\n",
    "        count_str = str(count)\n",
    "        for digit in count_str:\n",
    "            j += 1\n",
    "            chars[j] = digit\n",
    "    j += 1\n",
    "\n",
    "    return j"
   ]
  },
  {
   "cell_type": "code",
   "execution_count": 39,
   "id": "e285c174",
   "metadata": {},
   "outputs": [
    {
     "name": "stdout",
     "output_type": "stream",
     "text": [
      "6\n",
      "['a', '2', 'b', '2', 'c', '3']\n"
     ]
    }
   ],
   "source": [
    "chars = [\"a\",\"a\",\"b\",\"b\",\"c\",\"c\",\"c\"]\n",
    "new_length = test5(chars)\n",
    "compressed_chars = chars[:new_length]\n",
    "\n",
    "print(new_length)\n",
    "print(compressed_chars)"
   ]
  },
  {
   "cell_type": "markdown",
   "id": "e14e4540",
   "metadata": {},
   "source": [
    "**Question 6**\n",
    "\n",
    "Given two strings s and p, return *an array of all the start indices of* p*'s anagrams in* s. You may return the answer in **any order**.\n",
    "\n",
    "An **Anagram** is a word or phrase formed by rearranging the letters of a different word or phrase, typically using all the original letters exactly once.\n",
    "\n",
    "**Example 1:**\n",
    "\n",
    "**Input:** s = \"cbaebabacd\", p = \"abc\"\n",
    "\n",
    "**Output:** [0,6]\n",
    "\n",
    "**Explanation:**\n",
    "\n",
    "The substring with start index = 0 is \"cba\", which is an anagram of \"abc\".\n",
    "\n",
    "The substring with start index = 6 is \"bac\", which is an anagram of \"abc\"."
   ]
  },
  {
   "cell_type": "code",
   "execution_count": 42,
   "id": "42f3f058",
   "metadata": {},
   "outputs": [],
   "source": [
    "def test6(s, p):\n",
    "    result = []\n",
    "    p_freq = [0] * 26  # Frequency map for characters 'a' to 'z'\n",
    "    s_freq = [0] * 26  # Frequency map for characters 'a' to 'z'\n",
    "    p_len = len(p)\n",
    "    s_len = len(s)\n",
    "\n",
    "    # Count the frequencies of characters in p\n",
    "    for char in p:\n",
    "        p_freq[ord(char) - ord('a')] += 1\n",
    "\n",
    "    # Iterate through s using sliding window technique\n",
    "    for i in range(s_len):\n",
    "        s_freq[ord(s[i]) - ord('a')] += 1\n",
    "\n",
    "        if i >= p_len:\n",
    "            s_freq[ord(s[i - p_len]) - ord('a')] -= 1\n",
    "\n",
    "        if s_freq == p_freq:\n",
    "            result.append(i - p_len + 1)\n",
    "\n",
    "    return result"
   ]
  },
  {
   "cell_type": "code",
   "execution_count": 43,
   "id": "e111ab19",
   "metadata": {},
   "outputs": [
    {
     "name": "stdout",
     "output_type": "stream",
     "text": [
      "[0, 6]\n"
     ]
    }
   ],
   "source": [
    "s = \"cbaebabacd\"\n",
    "p = \"abc\"\n",
    "result = test6(s, p)\n",
    "print(result)"
   ]
  },
  {
   "cell_type": "markdown",
   "id": "4727f280",
   "metadata": {},
   "source": [
    "**Question 7**\n",
    "\n",
    "Given an encoded string, return its decoded string.\n",
    "\n",
    "The encoding rule is: k[encoded_string], where the encoded_string inside the square brackets is being repeated exactly k times. Note that k is guaranteed to be a positive integer.\n",
    "\n",
    "You may assume that the input string is always valid; there are no extra white spaces, square brackets are well-formed, etc. Furthermore, you may assume that the original data does not contain any digits and that digits are only for those repeat numbers, k. For example, there will not be input like 3a or 2[4].\n",
    "\n",
    "The test cases are generated so that the length of the output will never exceed 105.\n",
    "\n",
    "**Example 1:**\n",
    "\n",
    "**Input:** s = \"3[a]2[bc]\"\n",
    "\n",
    "**Output:** \"aaabcbc\""
   ]
  },
  {
   "cell_type": "code",
   "execution_count": 44,
   "id": "2f3eb902",
   "metadata": {},
   "outputs": [],
   "source": [
    "def test7(s):\n",
    "    stack = []\n",
    "    num = 0\n",
    "    res = \"\"\n",
    "\n",
    "    for c in s:\n",
    "        if c.isdigit():\n",
    "            num = num * 10 + int(c)\n",
    "        elif c == \"[\":\n",
    "            stack.append((num, res))\n",
    "            num = 0\n",
    "            res = \"\"\n",
    "        elif c == \"]\":\n",
    "            repeat, prev_res = stack.pop()\n",
    "            res = prev_res + repeat * res\n",
    "        else:\n",
    "            res += c\n",
    "\n",
    "    return res"
   ]
  },
  {
   "cell_type": "code",
   "execution_count": 46,
   "id": "d74861cf",
   "metadata": {},
   "outputs": [
    {
     "name": "stdout",
     "output_type": "stream",
     "text": [
      "aaabcbc\n"
     ]
    }
   ],
   "source": [
    "s = \"3[a]2[bc]\"\n",
    "decoded_string = test7(s)\n",
    "print(decoded_string)"
   ]
  },
  {
   "cell_type": "markdown",
   "id": "97c61c33",
   "metadata": {},
   "source": [
    "**Question 8**\n",
    "\n",
    "Given two strings s and goal, return true *if you can swap two letters in* s *so the result is equal to* goal*, otherwise, return* false*.*\n",
    "\n",
    "Swapping letters is defined as taking two indices i and j (0-indexed) such that i != j and swapping the characters at s[i] and s[j].\n",
    "\n",
    "- For example, swapping at indices 0 and 2 in \"abcd\" results in \"cbad\".\n",
    "\n",
    "**Example 1:**\n",
    "\n",
    "**Input:** s = \"ab\", goal = \"ba\"\n",
    "\n",
    "**Output:** true\n",
    "\n",
    "**Explanation:** You can swap s[0] = 'a' and s[1] = 'b' to get \"ba\", which is equal to goal."
   ]
  },
  {
   "cell_type": "code",
   "execution_count": 49,
   "id": "62898f14",
   "metadata": {},
   "outputs": [],
   "source": [
    "def test8(s, goal):\n",
    "    if len(s) != len(goal):\n",
    "        return False\n",
    "\n",
    "    diff_positions = []\n",
    "    diff_chars = []\n",
    "\n",
    "    for i in range(len(s)):\n",
    "        if s[i] != goal[i]:\n",
    "            diff_positions.append(i)\n",
    "            diff_chars.append(s[i])\n",
    "\n",
    "        if len(diff_positions) > 2:\n",
    "            return False\n",
    "\n",
    "    if len(diff_positions) != 2:\n",
    "        return False\n",
    "\n",
    "    if s[diff_positions[0]] == goal[diff_positions[1]] and s[diff_positions[1]] == goal[diff_positions[0]]:\n",
    "        return True\n",
    "\n",
    "    return False"
   ]
  },
  {
   "cell_type": "code",
   "execution_count": 50,
   "id": "fef1f536",
   "metadata": {},
   "outputs": [
    {
     "name": "stdout",
     "output_type": "stream",
     "text": [
      "True\n"
     ]
    }
   ],
   "source": [
    "s = \"ab\"\n",
    "goal = \"ba\"\n",
    "result = test8(s, goal)\n",
    "print(result)"
   ]
  }
 ],
 "metadata": {
  "kernelspec": {
   "display_name": "Python 3 (ipykernel)",
   "language": "python",
   "name": "python3"
  },
  "language_info": {
   "codemirror_mode": {
    "name": "ipython",
    "version": 3
   },
   "file_extension": ".py",
   "mimetype": "text/x-python",
   "name": "python",
   "nbconvert_exporter": "python",
   "pygments_lexer": "ipython3",
   "version": "3.10.9"
  }
 },
 "nbformat": 4,
 "nbformat_minor": 5
}
